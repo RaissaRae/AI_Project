{
 "cells": [
  {
   "cell_type": "code",
   "execution_count": 1,
   "metadata": {},
   "outputs": [
    {
     "name": "stdout",
     "output_type": "stream",
     "text": [
      "82.6086956521739 %\n"
     ]
    },
    {
     "data": {
      "text/plain": [
       "'\\ntest_df = pd.read_csv(\"data//test_heart.csv\")\\nx_test = test_df[x_types]\\nx_test = ce_ord.fit_transform(x_test)\\n\\nprediction = model.predict(x_test)\\n\\nout_df = pd.read_csv(\"data//sample_submission.csv\")\\n\\nfor i,id in enumerate(out_df[\\'id\\']):\\n    out_df[\\'HeartDisease\\'][i] = prediction[i]\\n\\nout_df.to_csv(\\'output//output.csv\\', encoding=\\'utf-8\\', index=False)\\n\\n'"
      ]
     },
     "execution_count": 1,
     "metadata": {},
     "output_type": "execute_result"
    }
   ],
   "source": [
    "import category_encoders as ce\n",
    "import pandas as pd\n",
    "import numpy as np\n",
    "from sklearn.tree import DecisionTreeClassifier\n",
    "from sklearn.tree import export_graphviz\n",
    "from sklearn.metrics import accuracy_score\n",
    "\n",
    "from sklearn.model_selection import train_test_split \n",
    "\n",
    "train_df = pd.read_csv(\"data//train_heart.csv\")\n",
    "\n",
    "x_types = ['Age','Sex','ChestPainType','RestingBP','Cholesterol','FastingBS','RestingECG','MaxHR','ExerciseAngina','Oldpeak','ST_Slope']\n",
    "\n",
    "x = train_df[x_types]\n",
    "y = train_df[['HeartDisease']]\n",
    "\n",
    "ce_ord = ce.OrdinalEncoder(cols = ['Sex','ChestPainType','RestingECG','ExerciseAngina','ST_Slope'])\n",
    "x = ce_ord.fit_transform(x)\n",
    "\n",
    "x_train, x_test, y_train, y_test = train_test_split(x, y, random_state=104, test_size=0.25)\n",
    "model = DecisionTreeClassifier(criterion = \"entropy\")\n",
    "model = model.fit(x_train, y_train)\n",
    "\n",
    "x_test = model.predict(x_test)\n",
    "y_test = np.array(y_test).flatten()\n",
    "print(accuracy_score(y_test,x_test)*100, \"%\")\n",
    "\n",
    "\"\"\"\n",
    "test_df = pd.read_csv(\"data//test_heart.csv\")\n",
    "x_test = test_df[x_types]\n",
    "x_test = ce_ord.fit_transform(x_test)\n",
    "\n",
    "prediction = model.predict(x_test)\n",
    "\n",
    "out_df = pd.read_csv(\"data//sample_submission.csv\")\n",
    "\n",
    "for i,id in enumerate(out_df['id']):\n",
    "    out_df['HeartDisease'][i] = prediction[i]\n",
    "\n",
    "out_df.to_csv('output//output.csv', encoding='utf-8', index=False)\n",
    "\n",
    "\"\"\""
   ]
  }
 ],
 "metadata": {
  "kernelspec": {
   "display_name": "Python 3",
   "language": "python",
   "name": "python3"
  },
  "language_info": {
   "codemirror_mode": {
    "name": "ipython",
    "version": 3
   },
   "file_extension": ".py",
   "mimetype": "text/x-python",
   "name": "python",
   "nbconvert_exporter": "python",
   "pygments_lexer": "ipython3",
   "version": "3.11.5"
  }
 },
 "nbformat": 4,
 "nbformat_minor": 2
}
