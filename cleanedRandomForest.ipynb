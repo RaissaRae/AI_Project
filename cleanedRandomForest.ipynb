{
 "cells": [
  {
   "cell_type": "markdown",
   "metadata": {},
   "source": [
    "Importing the necessery libraries to read and manipulate the data and to use the Decision Tree model"
   ]
  },
  {
   "cell_type": "code",
   "execution_count": 1,
   "metadata": {},
   "outputs": [],
   "source": [
    "import pandas as pd\n",
    "import numpy as np\n",
    "from sklearn.ensemble import RandomForestClassifier\n",
    "from sklearn.tree import export_graphviz\n",
    "from sklearn.metrics import accuracy_score\n",
    "import category_encoders as ce\n",
    "from sklearn.model_selection import train_test_split\n",
    "from io import StringIO\n",
    "from IPython.display import Image  \n",
    "import pydotplus\n",
    "from sklearn.metrics import confusion_matrix\n",
    "from sklearn.metrics import ConfusionMatrixDisplay"
   ]
  },
  {
   "cell_type": "markdown",
   "metadata": {},
   "source": [
    "importing and separating the data into features and target, we removed 'Sex' since this categorical data is binary which might not result in good desicion tree"
   ]
  },
  {
   "cell_type": "code",
   "execution_count": 2,
   "metadata": {},
   "outputs": [],
   "source": [
    "train_df = pd.read_csv(\"data//train_heart.csv\")\n",
    "\n",
    "x_types = ['Age','ChestPainType','RestingBP','Cholesterol','FastingBS','RestingECG','MaxHR','ExerciseAngina','Oldpeak','ST_Slope']\n",
    "\n",
    "x = train_df[x_types]\n",
    "y = train_df[['HeartDisease']]"
   ]
  },
  {
   "cell_type": "markdown",
   "metadata": {},
   "source": [
    "fixing our non-numeric values in the data"
   ]
  },
  {
   "cell_type": "code",
   "execution_count": 3,
   "metadata": {},
   "outputs": [],
   "source": [
    "ce_ord = ce.OrdinalEncoder(cols = ['ChestPainType','RestingECG','ExerciseAngina','ST_Slope'])\n",
    "x = ce_ord.fit_transform(x)"
   ]
  },
  {
   "cell_type": "markdown",
   "metadata": {},
   "source": [
    "clearing the numeric outliers"
   ]
  },
  {
   "cell_type": "code",
   "execution_count": 4,
   "metadata": {},
   "outputs": [],
   "source": [
    "numerical_columns = ['Age', 'RestingBP', 'Cholesterol', 'MaxHR', 'Oldpeak']\n",
    "\n",
    "# Calculate Q1 (25th percentile) and Q3 (75th percentile)\n",
    "Q1 = train_df[numerical_columns].quantile(0.25)\n",
    "Q3 = train_df[numerical_columns].quantile(0.75)\n",
    "\n",
    "# Calculate IQR\n",
    "IQR = Q3 - Q1\n",
    "\n",
    "# Define threshold (e.g., 1.5 times IQR)\n",
    "threshold = 1.5\n",
    "\n",
    "# Define the lower and upper bounds\n",
    "lower_bound = Q1 - threshold * IQR\n",
    "upper_bound = Q3 + threshold * IQR\n",
    "\n",
    "# Identify outliers\n",
    "outliers = ((train_df[numerical_columns] < lower_bound) | (train_df[numerical_columns] > upper_bound)).any(axis=1)\n",
    "\n",
    "# Remove outliers\n",
    "train_df = train_df[~outliers]\n"
   ]
  },
  {
   "cell_type": "markdown",
   "metadata": {},
   "source": [
    "splitting the training data to test for the efficiency of the model"
   ]
  },
  {
   "cell_type": "code",
   "execution_count": 5,
   "metadata": {},
   "outputs": [],
   "source": [
    "x_train, x_test, y_train, y_true = train_test_split(x, y, random_state=104, test_size=0.2)"
   ]
  },
  {
   "cell_type": "markdown",
   "metadata": {},
   "source": [
    "creating and fitting the Decision tree model with our data. We set max depth to not overfit the model"
   ]
  },
  {
   "cell_type": "code",
   "execution_count": 6,
   "metadata": {},
   "outputs": [
    {
     "name": "stderr",
     "output_type": "stream",
     "text": [
      "c:\\Users\\matej\\AppData\\Local\\Programs\\Python\\Python311\\Lib\\site-packages\\sklearn\\base.py:1474: DataConversionWarning: A column-vector y was passed when a 1d array was expected. Please change the shape of y to (n_samples,), for example using ravel().\n",
      "  return fit_method(estimator, *args, **kwargs)\n"
     ]
    }
   ],
   "source": [
    "model = RandomForestClassifier(n_estimators=1000, random_state=42, max_depth=4, criterion=\"entropy\")\n",
    "model = model.fit(x_train, y_train)"
   ]
  },
  {
   "cell_type": "markdown",
   "metadata": {},
   "source": [
    "visualization of our Decision Tree"
   ]
  },
  {
   "cell_type": "code",
   "execution_count": 7,
   "metadata": {},
   "outputs": [],
   "source": [
    "#dot_data = StringIO()\n",
    "#export_graphviz(model, out_file = dot_data, filled = True, rounded = True, special_characters = True, feature_names = x_types, class_names=['no','yes'])\n",
    "#graph = pydotplus.graph_from_dot_data(dot_data.getvalue())\n",
    "#Image(graph.create_png(), width = 1500)"
   ]
  },
  {
   "cell_type": "markdown",
   "metadata": {},
   "source": [
    "testing the model's efficiency by letting it predict on the unseen train data"
   ]
  },
  {
   "cell_type": "code",
   "execution_count": 8,
   "metadata": {},
   "outputs": [
    {
     "name": "stdout",
     "output_type": "stream",
     "text": [
      "87.59689922480621 %\n"
     ]
    }
   ],
   "source": [
    "y_test = model.predict(x_test)\n",
    "y_true = np.array(y_true).flatten()\n",
    "print(accuracy_score(y_true,y_test)*100, \"%\")"
   ]
  },
  {
   "cell_type": "markdown",
   "metadata": {},
   "source": [
    "confusion metrix to visualize the efficiency"
   ]
  },
  {
   "cell_type": "code",
   "execution_count": 9,
   "metadata": {},
   "outputs": [
    {
     "data": {
      "text/plain": [
       "<sklearn.metrics._plot.confusion_matrix.ConfusionMatrixDisplay at 0x14b211e7390>"
      ]
     },
     "execution_count": 9,
     "metadata": {},
     "output_type": "execute_result"
    },
    {
     "data": {
      "image/png": "[encoded data removed]",
      "text/plain": [
       "<Figure size 640x480 with 2 Axes>"
      ]
     },
     "metadata": {},
     "output_type": "display_data"
    }
   ],
   "source": [
    "confusion_matrix(y_true, y_test)\n",
    "ConfusionMatrixDisplay.from_predictions(y_true, y_test, labels=model.classes_)"
   ]
  },
  {
   "cell_type": "markdown",
   "metadata": {},
   "source": [
    "making an actual prediction on the data for testing using our model"
   ]
  },
  {
   "cell_type": "code",
   "execution_count": 10,
   "metadata": {},
   "outputs": [],
   "source": [
    "test_df = pd.read_csv(\"data//test_heart.csv\")\n",
    "test = test_df[x_types]\n",
    "test = ce_ord.fit_transform(test)\n",
    "\n",
    "prediction = model.predict(test)\n",
    "\n",
    "out_df = pd.read_csv(\"data//sample_submission.csv\")\n",
    "\n",
    "for i,id in enumerate(out_df['id']):\n",
    "    out_df['HeartDisease'][i] = prediction[i]\n",
    "\n",
    "out_df.to_csv('output//outputRFC.csv', encoding='utf-8', index=False)"
   ]
  }
 ],
 "metadata": {
  "kernelspec": {
   "display_name": "Python 3",
   "language": "python",
   "name": "python3"
  },
  "language_info": {
   "codemirror_mode": {
    "name": "ipython",
    "version": 3
   },
   "file_extension": ".py",
   "mimetype": "text/x-python",
   "name": "python",
   "nbconvert_exporter": "python",
   "pygments_lexer": "ipython3",
   "version": "3.11.5"
  }
 },
 "nbformat": 4,
 "nbformat_minor": 2
}
